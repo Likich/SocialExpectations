{
 "cells": [
  {
   "cell_type": "code",
   "execution_count": 49,
   "metadata": {},
   "outputs": [],
   "source": [
    "import pandas as pd\n",
    "import numpy as np\n",
    "import matplotlib\n",
    "import matplotlib.pyplot as plt\n",
    "import seaborn as sns"
   ]
  },
  {
   "cell_type": "code",
   "execution_count": 50,
   "metadata": {},
   "outputs": [],
   "source": [
    "import math\n",
    "import cmath"
   ]
  },
  {
   "cell_type": "code",
   "execution_count": 48,
   "metadata": {},
   "outputs": [],
   "source": [
    "%matplotlib inline"
   ]
  },
  {
   "cell_type": "code",
   "execution_count": 51,
   "metadata": {
    "collapsed": true
   },
   "outputs": [
    {
     "ename": "ReadstatError",
     "evalue": "Unable to open file",
     "output_type": "error",
     "traceback": [
      "\u001b[1;31m---------------------------------------------------------------------------\u001b[0m",
      "\u001b[1;31mReadstatError\u001b[0m                             Traceback (most recent call last)",
      "\u001b[1;32m<ipython-input-51-47c7c1cf07a0>\u001b[0m in \u001b[0;36m<module>\u001b[1;34m\u001b[0m\n\u001b[1;32m----> 1\u001b[1;33m \u001b[0mdata\u001b[0m \u001b[1;33m=\u001b[0m \u001b[0mpd\u001b[0m\u001b[1;33m.\u001b[0m\u001b[0mread_spss\u001b[0m\u001b[1;33m(\u001b[0m\u001b[1;34m'SocialExpData.sav'\u001b[0m\u001b[1;33m)\u001b[0m\u001b[1;33m\u001b[0m\u001b[1;33m\u001b[0m\u001b[0m\n\u001b[0m",
      "\u001b[1;32m~\\Anaconda3\\lib\\site-packages\\pandas\\io\\spss.py\u001b[0m in \u001b[0;36mread_spss\u001b[1;34m(path, usecols, convert_categoricals)\u001b[0m\n\u001b[0;32m     41\u001b[0m \u001b[1;33m\u001b[0m\u001b[0m\n\u001b[0;32m     42\u001b[0m     df, _ = pyreadstat.read_sav(\n\u001b[1;32m---> 43\u001b[1;33m         \u001b[0mpath\u001b[0m\u001b[1;33m,\u001b[0m \u001b[0musecols\u001b[0m\u001b[1;33m=\u001b[0m\u001b[0musecols\u001b[0m\u001b[1;33m,\u001b[0m \u001b[0mapply_value_formats\u001b[0m\u001b[1;33m=\u001b[0m\u001b[0mconvert_categoricals\u001b[0m\u001b[1;33m\u001b[0m\u001b[1;33m\u001b[0m\u001b[0m\n\u001b[0m\u001b[0;32m     44\u001b[0m     )\n\u001b[0;32m     45\u001b[0m     \u001b[1;32mreturn\u001b[0m \u001b[0mdf\u001b[0m\u001b[1;33m\u001b[0m\u001b[1;33m\u001b[0m\u001b[0m\n",
      "\u001b[1;32mpyreadstat\\pyreadstat.pyx\u001b[0m in \u001b[0;36mpyreadstat.pyreadstat.read_sav\u001b[1;34m()\u001b[0m\n",
      "\u001b[1;32mpyreadstat\\_readstat_parser.pyx\u001b[0m in \u001b[0;36mpyreadstat._readstat_parser.run_conversion\u001b[1;34m()\u001b[0m\n",
      "\u001b[1;32mpyreadstat\\_readstat_parser.pyx\u001b[0m in \u001b[0;36mpyreadstat._readstat_parser.run_readstat_parser\u001b[1;34m()\u001b[0m\n",
      "\u001b[1;32mpyreadstat\\_readstat_parser.pyx\u001b[0m in \u001b[0;36mpyreadstat._readstat_parser.check_exit_status\u001b[1;34m()\u001b[0m\n",
      "\u001b[1;31mReadstatError\u001b[0m: Unable to open file"
     ]
    }
   ],
   "source": [
    "data = pd.read_spss('SocialExpData.sav')"
   ]
  },
  {
   "cell_type": "code",
   "execution_count": 5,
   "metadata": {
    "scrolled": true
   },
   "outputs": [
    {
     "data": {
      "text/html": [
       "<div>\n",
       "<style scoped>\n",
       "    .dataframe tbody tr th:only-of-type {\n",
       "        vertical-align: middle;\n",
       "    }\n",
       "\n",
       "    .dataframe tbody tr th {\n",
       "        vertical-align: top;\n",
       "    }\n",
       "\n",
       "    .dataframe thead th {\n",
       "        text-align: right;\n",
       "    }\n",
       "</style>\n",
       "<table border=\"1\" class=\"dataframe\">\n",
       "  <thead>\n",
       "    <tr style=\"text-align: right;\">\n",
       "      <th></th>\n",
       "      <th>time</th>\n",
       "      <th>Age</th>\n",
       "      <th>Marriage</th>\n",
       "      <th>Children</th>\n",
       "      <th>q1</th>\n",
       "      <th>q2</th>\n",
       "      <th>q3</th>\n",
       "      <th>q4</th>\n",
       "      <th>q5</th>\n",
       "      <th>q6</th>\n",
       "      <th>...</th>\n",
       "      <th>education</th>\n",
       "      <th>education1</th>\n",
       "      <th>domicil</th>\n",
       "      <th>domicil1</th>\n",
       "      <th>SoxEXPstand</th>\n",
       "      <th>SobstvPoddStand1</th>\n",
       "      <th>standwork</th>\n",
       "      <th>RodPoddStand</th>\n",
       "      <th>Male</th>\n",
       "      <th>Female</th>\n",
       "    </tr>\n",
       "  </thead>\n",
       "  <tbody>\n",
       "    <tr>\n",
       "      <th>0</th>\n",
       "      <td>2020-03-09</td>\n",
       "      <td>46.0</td>\n",
       "      <td>Да, состою в официальном браке</td>\n",
       "      <td>Да</td>\n",
       "      <td>5.0</td>\n",
       "      <td>5.0</td>\n",
       "      <td>5.0</td>\n",
       "      <td>5.0</td>\n",
       "      <td>5.0</td>\n",
       "      <td>5.0</td>\n",
       "      <td>...</td>\n",
       "      <td>Высшее образование</td>\n",
       "      <td>Высшее образование</td>\n",
       "      <td>Город с населением меньше миллиона</td>\n",
       "      <td>Город с населением меньше миллиона</td>\n",
       "      <td>1.000000</td>\n",
       "      <td>1.0</td>\n",
       "      <td>1.000000</td>\n",
       "      <td>1.00000</td>\n",
       "      <td>1.0</td>\n",
       "      <td>0.0</td>\n",
       "    </tr>\n",
       "    <tr>\n",
       "      <th>1</th>\n",
       "      <td>2020-03-15</td>\n",
       "      <td>31.0</td>\n",
       "      <td>Да, состою в официальном браке</td>\n",
       "      <td>Нет</td>\n",
       "      <td>5.0</td>\n",
       "      <td>5.0</td>\n",
       "      <td>5.0</td>\n",
       "      <td>5.0</td>\n",
       "      <td>5.0</td>\n",
       "      <td>5.0</td>\n",
       "      <td>...</td>\n",
       "      <td>Неполное высшее</td>\n",
       "      <td>Неполное высшее</td>\n",
       "      <td>Сельский населенный пункт</td>\n",
       "      <td>Сельский населенный пункт</td>\n",
       "      <td>1.000000</td>\n",
       "      <td>1.0</td>\n",
       "      <td>1.000000</td>\n",
       "      <td>1.00000</td>\n",
       "      <td>1.0</td>\n",
       "      <td>0.0</td>\n",
       "    </tr>\n",
       "    <tr>\n",
       "      <th>2</th>\n",
       "      <td>2020-03-12</td>\n",
       "      <td>39.0</td>\n",
       "      <td>Да, состою в официальном браке</td>\n",
       "      <td>Нет</td>\n",
       "      <td>5.0</td>\n",
       "      <td>4.0</td>\n",
       "      <td>5.0</td>\n",
       "      <td>5.0</td>\n",
       "      <td>5.0</td>\n",
       "      <td>5.0</td>\n",
       "      <td>...</td>\n",
       "      <td>Среднее специальное</td>\n",
       "      <td>Среднее специальное</td>\n",
       "      <td>Поселок городского типа</td>\n",
       "      <td>Поселок городского типа</td>\n",
       "      <td>0.931034</td>\n",
       "      <td>1.0</td>\n",
       "      <td>0.916667</td>\n",
       "      <td>1.00000</td>\n",
       "      <td>1.0</td>\n",
       "      <td>0.0</td>\n",
       "    </tr>\n",
       "    <tr>\n",
       "      <th>3</th>\n",
       "      <td>2020-03-11</td>\n",
       "      <td>33.0</td>\n",
       "      <td>Никогда не состоял (не состояла) в браке</td>\n",
       "      <td>Нет</td>\n",
       "      <td>5.0</td>\n",
       "      <td>5.0</td>\n",
       "      <td>5.0</td>\n",
       "      <td>4.0</td>\n",
       "      <td>3.0</td>\n",
       "      <td>5.0</td>\n",
       "      <td>...</td>\n",
       "      <td>Среднее специальное</td>\n",
       "      <td>Среднее специальное</td>\n",
       "      <td>Крупный город (миллионник)</td>\n",
       "      <td>Крупный город (миллионник)</td>\n",
       "      <td>0.689655</td>\n",
       "      <td>1.0</td>\n",
       "      <td>0.194444</td>\n",
       "      <td>0.84375</td>\n",
       "      <td>0.0</td>\n",
       "      <td>1.0</td>\n",
       "    </tr>\n",
       "    <tr>\n",
       "      <th>4</th>\n",
       "      <td>2020-03-24</td>\n",
       "      <td>35.0</td>\n",
       "      <td>Да, состою в официальном браке</td>\n",
       "      <td>Да</td>\n",
       "      <td>4.0</td>\n",
       "      <td>3.0</td>\n",
       "      <td>5.0</td>\n",
       "      <td>3.0</td>\n",
       "      <td>3.0</td>\n",
       "      <td>3.0</td>\n",
       "      <td>...</td>\n",
       "      <td>Неполное среднее</td>\n",
       "      <td>Неполное среднее</td>\n",
       "      <td>Город с населением меньше миллиона</td>\n",
       "      <td>Город с населением меньше миллиона</td>\n",
       "      <td>0.689655</td>\n",
       "      <td>1.0</td>\n",
       "      <td>0.555556</td>\n",
       "      <td>0.81250</td>\n",
       "      <td>0.0</td>\n",
       "      <td>1.0</td>\n",
       "    </tr>\n",
       "  </tbody>\n",
       "</table>\n",
       "<p>5 rows × 95 columns</p>\n",
       "</div>"
      ],
      "text/plain": [
       "         time   Age                                  Marriage Children   q1  \\\n",
       "0  2020-03-09  46.0            Да, состою в официальном браке       Да  5.0   \n",
       "1  2020-03-15  31.0            Да, состою в официальном браке      Нет  5.0   \n",
       "2  2020-03-12  39.0            Да, состою в официальном браке      Нет  5.0   \n",
       "3  2020-03-11  33.0  Никогда не состоял (не состояла) в браке      Нет  5.0   \n",
       "4  2020-03-24  35.0            Да, состою в официальном браке       Да  4.0   \n",
       "\n",
       "    q2   q3   q4   q5   q6  ...            education           education1  \\\n",
       "0  5.0  5.0  5.0  5.0  5.0  ...   Высшее образование   Высшее образование   \n",
       "1  5.0  5.0  5.0  5.0  5.0  ...      Неполное высшее      Неполное высшее   \n",
       "2  4.0  5.0  5.0  5.0  5.0  ...  Среднее специальное  Среднее специальное   \n",
       "3  5.0  5.0  4.0  3.0  5.0  ...  Среднее специальное  Среднее специальное   \n",
       "4  3.0  5.0  3.0  3.0  3.0  ...     Неполное среднее     Неполное среднее   \n",
       "\n",
       "                              domicil                            domicil1  \\\n",
       "0  Город с населением меньше миллиона  Город с населением меньше миллиона   \n",
       "1           Сельский населенный пункт           Сельский населенный пункт   \n",
       "2             Поселок городского типа             Поселок городского типа   \n",
       "3          Крупный город (миллионник)          Крупный город (миллионник)   \n",
       "4  Город с населением меньше миллиона  Город с населением меньше миллиона   \n",
       "\n",
       "   SoxEXPstand  SobstvPoddStand1  standwork  RodPoddStand  Male  Female  \n",
       "0     1.000000               1.0   1.000000       1.00000   1.0     0.0  \n",
       "1     1.000000               1.0   1.000000       1.00000   1.0     0.0  \n",
       "2     0.931034               1.0   0.916667       1.00000   1.0     0.0  \n",
       "3     0.689655               1.0   0.194444       0.84375   0.0     1.0  \n",
       "4     0.689655               1.0   0.555556       0.81250   0.0     1.0  \n",
       "\n",
       "[5 rows x 95 columns]"
      ]
     },
     "execution_count": 5,
     "metadata": {},
     "output_type": "execute_result"
    }
   ],
   "source": [
    "data.head()"
   ]
  },
  {
   "cell_type": "code",
   "execution_count": 52,
   "metadata": {},
   "outputs": [
    {
     "data": {
      "text/html": [
       "<div>\n",
       "<style scoped>\n",
       "    .dataframe tbody tr th:only-of-type {\n",
       "        vertical-align: middle;\n",
       "    }\n",
       "\n",
       "    .dataframe tbody tr th {\n",
       "        vertical-align: top;\n",
       "    }\n",
       "\n",
       "    .dataframe thead th {\n",
       "        text-align: right;\n",
       "    }\n",
       "</style>\n",
       "<table border=\"1\" class=\"dataframe\">\n",
       "  <thead>\n",
       "    <tr style=\"text-align: right;\">\n",
       "      <th></th>\n",
       "      <th>Age</th>\n",
       "      <th>q1</th>\n",
       "      <th>q2</th>\n",
       "      <th>q3</th>\n",
       "      <th>q4</th>\n",
       "      <th>q5</th>\n",
       "      <th>q6</th>\n",
       "      <th>q7</th>\n",
       "      <th>q8</th>\n",
       "      <th>q9</th>\n",
       "      <th>...</th>\n",
       "      <th>SobstvPoddStand1</th>\n",
       "      <th>standwork</th>\n",
       "      <th>RodPoddStand</th>\n",
       "      <th>Male</th>\n",
       "      <th>Female</th>\n",
       "      <th>qsum</th>\n",
       "      <th>qindex</th>\n",
       "      <th>rindex</th>\n",
       "      <th>windex</th>\n",
       "      <th>GSE</th>\n",
       "    </tr>\n",
       "  </thead>\n",
       "  <tbody>\n",
       "    <tr>\n",
       "      <th>count</th>\n",
       "      <td>245.000000</td>\n",
       "      <td>245.000000</td>\n",
       "      <td>245.000000</td>\n",
       "      <td>245.000000</td>\n",
       "      <td>245.000000</td>\n",
       "      <td>245.000000</td>\n",
       "      <td>245.000000</td>\n",
       "      <td>245.000000</td>\n",
       "      <td>245.000000</td>\n",
       "      <td>245.000000</td>\n",
       "      <td>...</td>\n",
       "      <td>245.000000</td>\n",
       "      <td>245.000000</td>\n",
       "      <td>245.000000</td>\n",
       "      <td>245.000000</td>\n",
       "      <td>245.000000</td>\n",
       "      <td>245.000000</td>\n",
       "      <td>245.000000</td>\n",
       "      <td>245.000000</td>\n",
       "      <td>245.000000</td>\n",
       "      <td>245.000000</td>\n",
       "    </tr>\n",
       "    <tr>\n",
       "      <th>mean</th>\n",
       "      <td>42.428571</td>\n",
       "      <td>3.342857</td>\n",
       "      <td>3.591837</td>\n",
       "      <td>3.534694</td>\n",
       "      <td>2.661224</td>\n",
       "      <td>2.616327</td>\n",
       "      <td>3.285714</td>\n",
       "      <td>3.595918</td>\n",
       "      <td>3.514286</td>\n",
       "      <td>3.277551</td>\n",
       "      <td>...</td>\n",
       "      <td>0.757347</td>\n",
       "      <td>0.567007</td>\n",
       "      <td>0.567602</td>\n",
       "      <td>0.461224</td>\n",
       "      <td>0.538776</td>\n",
       "      <td>31.314286</td>\n",
       "      <td>31.314286</td>\n",
       "      <td>28.269388</td>\n",
       "      <td>20.146939</td>\n",
       "      <td>94.693878</td>\n",
       "    </tr>\n",
       "    <tr>\n",
       "      <th>std</th>\n",
       "      <td>9.418764</td>\n",
       "      <td>1.158008</td>\n",
       "      <td>1.030645</td>\n",
       "      <td>1.259318</td>\n",
       "      <td>1.188886</td>\n",
       "      <td>1.396622</td>\n",
       "      <td>1.197675</td>\n",
       "      <td>1.164706</td>\n",
       "      <td>1.216687</td>\n",
       "      <td>1.249798</td>\n",
       "      <td>...</td>\n",
       "      <td>0.215218</td>\n",
       "      <td>0.182648</td>\n",
       "      <td>0.193296</td>\n",
       "      <td>0.499515</td>\n",
       "      <td>0.499515</td>\n",
       "      <td>7.104836</td>\n",
       "      <td>7.104836</td>\n",
       "      <td>6.817354</td>\n",
       "      <td>4.304358</td>\n",
       "      <td>17.038775</td>\n",
       "    </tr>\n",
       "    <tr>\n",
       "      <th>min</th>\n",
       "      <td>30.000000</td>\n",
       "      <td>1.000000</td>\n",
       "      <td>1.000000</td>\n",
       "      <td>1.000000</td>\n",
       "      <td>1.000000</td>\n",
       "      <td>1.000000</td>\n",
       "      <td>1.000000</td>\n",
       "      <td>1.000000</td>\n",
       "      <td>1.000000</td>\n",
       "      <td>1.000000</td>\n",
       "      <td>...</td>\n",
       "      <td>0.000000</td>\n",
       "      <td>0.000000</td>\n",
       "      <td>0.000000</td>\n",
       "      <td>0.000000</td>\n",
       "      <td>0.000000</td>\n",
       "      <td>10.000000</td>\n",
       "      <td>10.000000</td>\n",
       "      <td>9.000000</td>\n",
       "      <td>5.000000</td>\n",
       "      <td>29.000000</td>\n",
       "    </tr>\n",
       "    <tr>\n",
       "      <th>25%</th>\n",
       "      <td>34.000000</td>\n",
       "      <td>2.000000</td>\n",
       "      <td>3.000000</td>\n",
       "      <td>3.000000</td>\n",
       "      <td>2.000000</td>\n",
       "      <td>1.000000</td>\n",
       "      <td>2.000000</td>\n",
       "      <td>3.000000</td>\n",
       "      <td>3.000000</td>\n",
       "      <td>2.000000</td>\n",
       "      <td>...</td>\n",
       "      <td>0.700000</td>\n",
       "      <td>0.444444</td>\n",
       "      <td>0.468750</td>\n",
       "      <td>0.000000</td>\n",
       "      <td>0.000000</td>\n",
       "      <td>27.000000</td>\n",
       "      <td>27.000000</td>\n",
       "      <td>24.000000</td>\n",
       "      <td>19.000000</td>\n",
       "      <td>86.000000</td>\n",
       "    </tr>\n",
       "    <tr>\n",
       "      <th>50%</th>\n",
       "      <td>40.000000</td>\n",
       "      <td>4.000000</td>\n",
       "      <td>4.000000</td>\n",
       "      <td>4.000000</td>\n",
       "      <td>2.000000</td>\n",
       "      <td>2.000000</td>\n",
       "      <td>4.000000</td>\n",
       "      <td>4.000000</td>\n",
       "      <td>4.000000</td>\n",
       "      <td>4.000000</td>\n",
       "      <td>...</td>\n",
       "      <td>0.800000</td>\n",
       "      <td>0.583333</td>\n",
       "      <td>0.593750</td>\n",
       "      <td>0.000000</td>\n",
       "      <td>1.000000</td>\n",
       "      <td>32.000000</td>\n",
       "      <td>32.000000</td>\n",
       "      <td>28.000000</td>\n",
       "      <td>21.000000</td>\n",
       "      <td>96.000000</td>\n",
       "    </tr>\n",
       "    <tr>\n",
       "      <th>75%</th>\n",
       "      <td>50.000000</td>\n",
       "      <td>4.000000</td>\n",
       "      <td>4.000000</td>\n",
       "      <td>4.000000</td>\n",
       "      <td>4.000000</td>\n",
       "      <td>4.000000</td>\n",
       "      <td>4.000000</td>\n",
       "      <td>4.000000</td>\n",
       "      <td>4.000000</td>\n",
       "      <td>4.000000</td>\n",
       "      <td>...</td>\n",
       "      <td>0.900000</td>\n",
       "      <td>0.694444</td>\n",
       "      <td>0.687500</td>\n",
       "      <td>1.000000</td>\n",
       "      <td>1.000000</td>\n",
       "      <td>36.000000</td>\n",
       "      <td>36.000000</td>\n",
       "      <td>32.000000</td>\n",
       "      <td>23.000000</td>\n",
       "      <td>106.000000</td>\n",
       "    </tr>\n",
       "    <tr>\n",
       "      <th>max</th>\n",
       "      <td>60.000000</td>\n",
       "      <td>5.000000</td>\n",
       "      <td>5.000000</td>\n",
       "      <td>5.000000</td>\n",
       "      <td>5.000000</td>\n",
       "      <td>5.000000</td>\n",
       "      <td>5.000000</td>\n",
       "      <td>5.000000</td>\n",
       "      <td>5.000000</td>\n",
       "      <td>5.000000</td>\n",
       "      <td>...</td>\n",
       "      <td>1.000000</td>\n",
       "      <td>1.000000</td>\n",
       "      <td>1.000000</td>\n",
       "      <td>1.000000</td>\n",
       "      <td>1.000000</td>\n",
       "      <td>50.000000</td>\n",
       "      <td>50.000000</td>\n",
       "      <td>45.000000</td>\n",
       "      <td>25.000000</td>\n",
       "      <td>145.000000</td>\n",
       "    </tr>\n",
       "  </tbody>\n",
       "</table>\n",
       "<p>8 rows × 85 columns</p>\n",
       "</div>"
      ],
      "text/plain": [
       "              Age          q1          q2          q3          q4          q5  \\\n",
       "count  245.000000  245.000000  245.000000  245.000000  245.000000  245.000000   \n",
       "mean    42.428571    3.342857    3.591837    3.534694    2.661224    2.616327   \n",
       "std      9.418764    1.158008    1.030645    1.259318    1.188886    1.396622   \n",
       "min     30.000000    1.000000    1.000000    1.000000    1.000000    1.000000   \n",
       "25%     34.000000    2.000000    3.000000    3.000000    2.000000    1.000000   \n",
       "50%     40.000000    4.000000    4.000000    4.000000    2.000000    2.000000   \n",
       "75%     50.000000    4.000000    4.000000    4.000000    4.000000    4.000000   \n",
       "max     60.000000    5.000000    5.000000    5.000000    5.000000    5.000000   \n",
       "\n",
       "               q6          q7          q8          q9  ...  SobstvPoddStand1  \\\n",
       "count  245.000000  245.000000  245.000000  245.000000  ...        245.000000   \n",
       "mean     3.285714    3.595918    3.514286    3.277551  ...          0.757347   \n",
       "std      1.197675    1.164706    1.216687    1.249798  ...          0.215218   \n",
       "min      1.000000    1.000000    1.000000    1.000000  ...          0.000000   \n",
       "25%      2.000000    3.000000    3.000000    2.000000  ...          0.700000   \n",
       "50%      4.000000    4.000000    4.000000    4.000000  ...          0.800000   \n",
       "75%      4.000000    4.000000    4.000000    4.000000  ...          0.900000   \n",
       "max      5.000000    5.000000    5.000000    5.000000  ...          1.000000   \n",
       "\n",
       "        standwork  RodPoddStand        Male      Female        qsum  \\\n",
       "count  245.000000    245.000000  245.000000  245.000000  245.000000   \n",
       "mean     0.567007      0.567602    0.461224    0.538776   31.314286   \n",
       "std      0.182648      0.193296    0.499515    0.499515    7.104836   \n",
       "min      0.000000      0.000000    0.000000    0.000000   10.000000   \n",
       "25%      0.444444      0.468750    0.000000    0.000000   27.000000   \n",
       "50%      0.583333      0.593750    0.000000    1.000000   32.000000   \n",
       "75%      0.694444      0.687500    1.000000    1.000000   36.000000   \n",
       "max      1.000000      1.000000    1.000000    1.000000   50.000000   \n",
       "\n",
       "           qindex      rindex      windex         GSE  \n",
       "count  245.000000  245.000000  245.000000  245.000000  \n",
       "mean    31.314286   28.269388   20.146939   94.693878  \n",
       "std      7.104836    6.817354    4.304358   17.038775  \n",
       "min     10.000000    9.000000    5.000000   29.000000  \n",
       "25%     27.000000   24.000000   19.000000   86.000000  \n",
       "50%     32.000000   28.000000   21.000000   96.000000  \n",
       "75%     36.000000   32.000000   23.000000  106.000000  \n",
       "max     50.000000   45.000000   25.000000  145.000000  \n",
       "\n",
       "[8 rows x 85 columns]"
      ]
     },
     "execution_count": 52,
     "metadata": {},
     "output_type": "execute_result"
    }
   ],
   "source": [
    "data.describe()"
   ]
  },
  {
   "cell_type": "code",
   "execution_count": 53,
   "metadata": {},
   "outputs": [
    {
     "data": {
      "text/plain": [
       "<seaborn.axisgrid.FacetGrid at 0x1b224911c50>"
      ]
     },
     "execution_count": 53,
     "metadata": {},
     "output_type": "execute_result"
    },
    {
     "data": {
      "image/png": "[encoded data removed]",
      "text/plain": [
       "<Figure size 360x360 with 1 Axes>"
      ]
     },
     "metadata": {
      "needs_background": "light"
     },
     "output_type": "display_data"
    }
   ],
   "source": [
    "\n",
    "sns.catplot(x=\"gender\", kind=\"count\", palette=\"ch:.25\", data=data)\n"
   ]
  },
  {
   "cell_type": "code",
   "execution_count": 63,
   "metadata": {},
   "outputs": [],
   "source": [
    "%matplotlib inline"
   ]
  },
  {
   "cell_type": "code",
   "execution_count": 64,
   "metadata": {
    "scrolled": true
   },
   "outputs": [
    {
     "data": {
      "text/plain": [
       "<seaborn.axisgrid.FacetGrid at 0x1b2284aba90>"
      ]
     },
     "execution_count": 64,
     "metadata": {},
     "output_type": "execute_result"
    },
    {
     "data": {
      "image/png": "[encoded data removed]",
      "text/plain": [
       "<Figure size 360x360 with 1 Axes>"
      ]
     },
     "metadata": {
      "needs_background": "light"
     },
     "output_type": "display_data"
    }
   ],
   "source": [
    "sns.catplot(x=\"Age\", kind=\"count\", palette=\"ch:.25\", data=data)"
   ]
  },
  {
   "cell_type": "code",
   "execution_count": 55,
   "metadata": {},
   "outputs": [
    {
     "data": {
      "text/plain": [
       "[Text(0, 0, 'Высшее образование'),\n",
       " Text(1, 0, 'Неполное высшее'),\n",
       " Text(2, 0, 'Среднее специальное'),\n",
       " Text(3, 0, 'Неполное среднее'),\n",
       " Text(4, 0, 'Несколько высших'),\n",
       " Text(5, 0, 'Среднее общее'),\n",
       " Text(6, 0, 'Учёная степень, MBA')]"
      ]
     },
     "execution_count": 55,
     "metadata": {},
     "output_type": "execute_result"
    },
    {
     "data": {
      "image/png": "[encoded data removed]",
      "text/plain": [
       "<Figure size 360x216 with 1 Axes>"
      ]
     },
     "metadata": {
      "needs_background": "light"
     },
     "output_type": "display_data"
    }
   ],
   "source": [
    "plt.figure(figsize=(5,3))\n",
    "chart = sns.countplot(\n",
    "    data=data,\n",
    "    x='education',\n",
    "    palette='rocket')\n",
    "chart.set_xticklabels(chart.get_xticklabels(), rotation=45, horizontalalignment='right')"
   ]
  },
  {
   "cell_type": "code",
   "execution_count": 56,
   "metadata": {},
   "outputs": [
    {
     "data": {
      "text/plain": [
       "[Text(0, 0, 'Мы можем без труда купить холодильник, телевизор, мебель, но на автомобиль денег нет.'),\n",
       " Text(1, 0, 'Отказ от ответа'),\n",
       " Text(2, 0, 'Денег хватает на продукты и одежду, но покупка холодильника, телевизора, мебели – для нас проблема'),\n",
       " Text(3, 0, 'На продукты денег хватает, но покупка одежды уже затруднительна'),\n",
       " Text(4, 0, 'Мы едва сводим концы с концами. денег не хватает даже на продукты'),\n",
       " Text(5, 0, 'Затрудняюсь ответить'),\n",
       " Text(6, 0, 'Мы можем позволить себе практически все: машину, квартиру, дачу и многое другое')]"
      ]
     },
     "execution_count": 56,
     "metadata": {},
     "output_type": "execute_result"
    },
    {
     "data": {
      "image/png": "[encoded data removed]",
      "text/plain": [
       "<Figure size 720x360 with 1 Axes>"
      ]
     },
     "metadata": {
      "needs_background": "light"
     },
     "output_type": "display_data"
    }
   ],
   "source": [
    "plt.figure(figsize=(10,5))\n",
    "chart = sns.countplot(\n",
    "    data=data,\n",
    "    x='financialgroup',\n",
    "    palette='mako')\n",
    "chart.set_xticklabels(chart.get_xticklabels(), rotation=45, horizontalalignment='right')"
   ]
  },
  {
   "cell_type": "code",
   "execution_count": null,
   "metadata": {},
   "outputs": [],
   "source": []
  },
  {
   "cell_type": "markdown",
   "metadata": {},
   "source": [
    "### *Description of variables:*\n",
    "**Age** - age\n",
    "**q1** Parents have always supported my choice\n",
    "**q2** I can say that I was an independent child\n",
    "**q3** Parents rarely punished me\n",
    "**q4** Parents often reminded me what I should become\n",
    "**q5** Parents have determined my choice of educational institution (after school)\n",
    "**q6** My family expected a lot from me\n",
    "**q7** I did not want to disappoint the family's expectations\n",
    "**q8** I want to show my parent what kind of person I have become\n",
    "**q9** Parents have often instructed me\n",
    "**q10** Now I have to take care of my parents\n",
    "**q11** Sometimes I have lied to my parents so as not to lower their expectations\n",
    "**q12** I feel guilty to my family for not paying enough attention to it\n",
    "**q13** Sometimes parents feel uncomfortable in front of friends and acquaintances because of me\n",
    "**stependavl** To what extent did your parents put pressure on you as a child?\n",
    "**davlprohod** Was this pressure passed with age?\n",
    "**w1** I must be a model husband/wife\n",
    "**w2** I am responsible for my family\n",
    "**w3** I often consult with family members when making a decision\n",
    "**w4** The welfare of my family is more important than my freedom of action\n",
    "**w5** I must set a good example for my family\n",
    "**w6** I am forced to work in a field that is not my favorite to ensure a decent standard of living for my family\n",
    "**w7** I sacrifice my interests/wishes for the sake of my family]\n",
    "**w8** When I'm in trouble, I try not to show it at home\n",
    "**w9** I feel guilty to my family for not paying enough attention to it\n",
    "**w10** Some members of my family may feel uncomfortable in front of friends and acquaintances because of me\n",
    "**semyaogranich** To what extent does your family limit your freedom of action?\n",
    "**r1** I often worry what my colleagues might think of me\n",
    "**r2** I have never compared myself with my colleagues\n",
    "**r3** I would like to change the field of activity\n",
    "**r4** I would be afraid to approach my boss with initiative\n",
    "**r5** I will never complain to my boss about my colleague\n",
    "**r6** As a child, I dreamed (imagined myself in) another field of activity\n",
    "**r7** Originally I was planning to get another major\n",
    "**r8** I regret not being able to be the person I planned (in terms of work/education plan)\n",
    "**r9** I want to show my colleagues how good I am\n",
    "**r10** I try to maintain my established image in the team\n",
    "**r11** I hide my goals and intentions from my colleagues\n",
    "**thinkwhatothers** I often wonder \"what will people think of me\".\n",
    "**polagatsya** A man should rely only on himself\n",
    "**slozhvibor** Remember the situation when you had to make difficult choices. What was it related to?\n",
    "**sdelvibor** How did you make the choice in that situation? (1 to 3 choices).\n",
    "**skrivayutseli** I hide my goals and intentions from others\n",
    "**charact** From these characteristics, choose the one you consider the most prestigious in Russia (in terms of career)?\n",
    "**sootvetst** How important is it for you to match the characteristic you've specified?\n",
    "**rabotapodusha** I was able to find a job to my liking - now I am doing my favorite thing.\n",
    "**vinuzhden** I have to work in a field that I do not love to maintain a decent standard of living.\n",
    "**nestavlyu** I don't set high goals for myself.\n",
    "**ambition** I consider myself an ambitious man.\n",
    "**vsegdadobiv** I always achieve my goals\n",
    "**starayussled** I try to follow all generally accepted norms of behavior\n",
    "**tyazhelopomosh** It's hard for me to get help from other people\n",
    "**tyazheloprinimresh** It's hard for me to make decisions\n",
    "**chastosovet** I often consult with people around me.\n",
    "**chastosleduyu** I often follow the advice of others.\n",
    "**schitaus** I consider myself to be of public opinion.\n",
    "**pitayusborot** I'm trying to fight against the dependence on public opinion.\n",
    "**stidno** I often feel embarrassed for myself/ my actions.\n",
    "**vina** I often feel guilty for wrong choices made in the past.\n",
    "**risk** \"He who does not risk does not drink champagne.\" To what extent does this judgment apply to you?\n",
    "**nevsyozavisit** In this life, not everything depends on me.\n",
    "**pomoshreligion** How often do you resort to the help of religion?\n",
    "**religiononlyslozh** I resort to religion only in difficult life situations.\n",
    "**religionzakon** Religion is the law for me\n",
    "**gender** Please specify your gender\n"
   ]
  },
  {
   "cell_type": "code",
   "execution_count": 11,
   "metadata": {},
   "outputs": [
    {
     "data": {
      "text/html": [
       "<div>\n",
       "<style scoped>\n",
       "    .dataframe tbody tr th:only-of-type {\n",
       "        vertical-align: middle;\n",
       "    }\n",
       "\n",
       "    .dataframe tbody tr th {\n",
       "        vertical-align: top;\n",
       "    }\n",
       "\n",
       "    .dataframe thead th {\n",
       "        text-align: right;\n",
       "    }\n",
       "</style>\n",
       "<table border=\"1\" class=\"dataframe\">\n",
       "  <thead>\n",
       "    <tr style=\"text-align: right;\">\n",
       "      <th></th>\n",
       "      <th>Age</th>\n",
       "      <th>q1</th>\n",
       "      <th>q2</th>\n",
       "      <th>q3</th>\n",
       "      <th>q4</th>\n",
       "      <th>q5</th>\n",
       "      <th>q6</th>\n",
       "      <th>q7</th>\n",
       "      <th>q8</th>\n",
       "      <th>q9</th>\n",
       "      <th>...</th>\n",
       "      <th>razvode</th>\n",
       "      <th>neudobnoparentsperekod</th>\n",
       "      <th>vdovets</th>\n",
       "      <th>neudobnosemyeobr</th>\n",
       "      <th>SoxEXPstand</th>\n",
       "      <th>SobstvPoddStand1</th>\n",
       "      <th>standwork</th>\n",
       "      <th>RodPoddStand</th>\n",
       "      <th>Male</th>\n",
       "      <th>Female</th>\n",
       "    </tr>\n",
       "  </thead>\n",
       "  <tbody>\n",
       "    <tr>\n",
       "      <th>Age</th>\n",
       "      <td>1.000000</td>\n",
       "      <td>0.087551</td>\n",
       "      <td>0.062846</td>\n",
       "      <td>0.174787</td>\n",
       "      <td>-0.012967</td>\n",
       "      <td>-0.112695</td>\n",
       "      <td>-0.025068</td>\n",
       "      <td>0.213109</td>\n",
       "      <td>0.115515</td>\n",
       "      <td>-0.065503</td>\n",
       "      <td>...</td>\n",
       "      <td>0.100541</td>\n",
       "      <td>0.157869</td>\n",
       "      <td>0.211912</td>\n",
       "      <td>0.050002</td>\n",
       "      <td>-0.036030</td>\n",
       "      <td>0.034226</td>\n",
       "      <td>-0.048459</td>\n",
       "      <td>0.042831</td>\n",
       "      <td>-0.001244</td>\n",
       "      <td>0.001244</td>\n",
       "    </tr>\n",
       "    <tr>\n",
       "      <th>q1</th>\n",
       "      <td>0.087551</td>\n",
       "      <td>1.000000</td>\n",
       "      <td>0.340939</td>\n",
       "      <td>0.469572</td>\n",
       "      <td>0.004338</td>\n",
       "      <td>-0.083045</td>\n",
       "      <td>0.215716</td>\n",
       "      <td>0.361427</td>\n",
       "      <td>0.397929</td>\n",
       "      <td>0.118045</td>\n",
       "      <td>...</td>\n",
       "      <td>-0.114081</td>\n",
       "      <td>0.152648</td>\n",
       "      <td>-0.001306</td>\n",
       "      <td>0.005270</td>\n",
       "      <td>0.219907</td>\n",
       "      <td>0.385341</td>\n",
       "      <td>0.037877</td>\n",
       "      <td>0.279383</td>\n",
       "      <td>0.086844</td>\n",
       "      <td>-0.086844</td>\n",
       "    </tr>\n",
       "    <tr>\n",
       "      <th>q2</th>\n",
       "      <td>0.062846</td>\n",
       "      <td>0.340939</td>\n",
       "      <td>1.000000</td>\n",
       "      <td>0.228834</td>\n",
       "      <td>0.030512</td>\n",
       "      <td>-0.092157</td>\n",
       "      <td>0.141345</td>\n",
       "      <td>0.223942</td>\n",
       "      <td>0.226914</td>\n",
       "      <td>0.027856</td>\n",
       "      <td>...</td>\n",
       "      <td>-0.045344</td>\n",
       "      <td>0.092211</td>\n",
       "      <td>0.062877</td>\n",
       "      <td>-0.022646</td>\n",
       "      <td>0.253541</td>\n",
       "      <td>0.362783</td>\n",
       "      <td>0.171888</td>\n",
       "      <td>0.200788</td>\n",
       "      <td>-0.190083</td>\n",
       "      <td>0.190083</td>\n",
       "    </tr>\n",
       "    <tr>\n",
       "      <th>q3</th>\n",
       "      <td>0.174787</td>\n",
       "      <td>0.469572</td>\n",
       "      <td>0.228834</td>\n",
       "      <td>1.000000</td>\n",
       "      <td>-0.086557</td>\n",
       "      <td>-0.034345</td>\n",
       "      <td>0.186328</td>\n",
       "      <td>0.270855</td>\n",
       "      <td>0.261140</td>\n",
       "      <td>-0.011351</td>\n",
       "      <td>...</td>\n",
       "      <td>-0.008026</td>\n",
       "      <td>0.002377</td>\n",
       "      <td>0.079676</td>\n",
       "      <td>-0.022989</td>\n",
       "      <td>0.224064</td>\n",
       "      <td>0.324925</td>\n",
       "      <td>0.142542</td>\n",
       "      <td>0.162373</td>\n",
       "      <td>-0.022285</td>\n",
       "      <td>0.022285</td>\n",
       "    </tr>\n",
       "    <tr>\n",
       "      <th>q4</th>\n",
       "      <td>-0.012967</td>\n",
       "      <td>0.004338</td>\n",
       "      <td>0.030512</td>\n",
       "      <td>-0.086557</td>\n",
       "      <td>1.000000</td>\n",
       "      <td>0.437265</td>\n",
       "      <td>0.384865</td>\n",
       "      <td>0.193748</td>\n",
       "      <td>0.098275</td>\n",
       "      <td>0.471759</td>\n",
       "      <td>...</td>\n",
       "      <td>0.045064</td>\n",
       "      <td>-0.224959</td>\n",
       "      <td>-0.110560</td>\n",
       "      <td>-0.161055</td>\n",
       "      <td>0.363885</td>\n",
       "      <td>0.109876</td>\n",
       "      <td>0.154772</td>\n",
       "      <td>0.576566</td>\n",
       "      <td>0.119263</td>\n",
       "      <td>-0.119263</td>\n",
       "    </tr>\n",
       "    <tr>\n",
       "      <th>...</th>\n",
       "      <td>...</td>\n",
       "      <td>...</td>\n",
       "      <td>...</td>\n",
       "      <td>...</td>\n",
       "      <td>...</td>\n",
       "      <td>...</td>\n",
       "      <td>...</td>\n",
       "      <td>...</td>\n",
       "      <td>...</td>\n",
       "      <td>...</td>\n",
       "      <td>...</td>\n",
       "      <td>...</td>\n",
       "      <td>...</td>\n",
       "      <td>...</td>\n",
       "      <td>...</td>\n",
       "      <td>...</td>\n",
       "      <td>...</td>\n",
       "      <td>...</td>\n",
       "      <td>...</td>\n",
       "      <td>...</td>\n",
       "      <td>...</td>\n",
       "    </tr>\n",
       "    <tr>\n",
       "      <th>SobstvPoddStand1</th>\n",
       "      <td>0.034226</td>\n",
       "      <td>0.385341</td>\n",
       "      <td>0.362783</td>\n",
       "      <td>0.324925</td>\n",
       "      <td>0.109876</td>\n",
       "      <td>-0.011036</td>\n",
       "      <td>0.266095</td>\n",
       "      <td>0.361780</td>\n",
       "      <td>0.441749</td>\n",
       "      <td>0.310836</td>\n",
       "      <td>...</td>\n",
       "      <td>-0.089155</td>\n",
       "      <td>-0.023863</td>\n",
       "      <td>0.080646</td>\n",
       "      <td>-0.057815</td>\n",
       "      <td>0.675601</td>\n",
       "      <td>1.000000</td>\n",
       "      <td>0.343645</td>\n",
       "      <td>0.448730</td>\n",
       "      <td>0.014098</td>\n",
       "      <td>-0.014098</td>\n",
       "    </tr>\n",
       "    <tr>\n",
       "      <th>standwork</th>\n",
       "      <td>-0.048459</td>\n",
       "      <td>0.037877</td>\n",
       "      <td>0.171888</td>\n",
       "      <td>0.142542</td>\n",
       "      <td>0.154772</td>\n",
       "      <td>0.190453</td>\n",
       "      <td>0.227497</td>\n",
       "      <td>0.254631</td>\n",
       "      <td>0.200846</td>\n",
       "      <td>0.265799</td>\n",
       "      <td>...</td>\n",
       "      <td>0.056819</td>\n",
       "      <td>-0.256670</td>\n",
       "      <td>0.026265</td>\n",
       "      <td>-0.187052</td>\n",
       "      <td>0.758354</td>\n",
       "      <td>0.343645</td>\n",
       "      <td>1.000000</td>\n",
       "      <td>0.364627</td>\n",
       "      <td>0.022980</td>\n",
       "      <td>-0.022980</td>\n",
       "    </tr>\n",
       "    <tr>\n",
       "      <th>RodPoddStand</th>\n",
       "      <td>0.042831</td>\n",
       "      <td>0.279383</td>\n",
       "      <td>0.200788</td>\n",
       "      <td>0.162373</td>\n",
       "      <td>0.576566</td>\n",
       "      <td>0.538625</td>\n",
       "      <td>0.712310</td>\n",
       "      <td>0.677060</td>\n",
       "      <td>0.644466</td>\n",
       "      <td>0.687548</td>\n",
       "      <td>...</td>\n",
       "      <td>0.007628</td>\n",
       "      <td>-0.205737</td>\n",
       "      <td>-0.029859</td>\n",
       "      <td>-0.206334</td>\n",
       "      <td>0.745580</td>\n",
       "      <td>0.448730</td>\n",
       "      <td>0.364627</td>\n",
       "      <td>1.000000</td>\n",
       "      <td>0.126743</td>\n",
       "      <td>-0.126743</td>\n",
       "    </tr>\n",
       "    <tr>\n",
       "      <th>Male</th>\n",
       "      <td>-0.001244</td>\n",
       "      <td>0.086844</td>\n",
       "      <td>-0.190083</td>\n",
       "      <td>-0.022285</td>\n",
       "      <td>0.119263</td>\n",
       "      <td>0.007961</td>\n",
       "      <td>0.128202</td>\n",
       "      <td>0.110324</td>\n",
       "      <td>0.066664</td>\n",
       "      <td>0.135476</td>\n",
       "      <td>...</td>\n",
       "      <td>-0.085769</td>\n",
       "      <td>-0.049264</td>\n",
       "      <td>-0.093624</td>\n",
       "      <td>-0.115746</td>\n",
       "      <td>0.096110</td>\n",
       "      <td>0.014098</td>\n",
       "      <td>0.022980</td>\n",
       "      <td>0.126743</td>\n",
       "      <td>1.000000</td>\n",
       "      <td>-1.000000</td>\n",
       "    </tr>\n",
       "    <tr>\n",
       "      <th>Female</th>\n",
       "      <td>0.001244</td>\n",
       "      <td>-0.086844</td>\n",
       "      <td>0.190083</td>\n",
       "      <td>0.022285</td>\n",
       "      <td>-0.119263</td>\n",
       "      <td>-0.007961</td>\n",
       "      <td>-0.128202</td>\n",
       "      <td>-0.110324</td>\n",
       "      <td>-0.066664</td>\n",
       "      <td>-0.135476</td>\n",
       "      <td>...</td>\n",
       "      <td>0.085769</td>\n",
       "      <td>0.049264</td>\n",
       "      <td>0.093624</td>\n",
       "      <td>0.115746</td>\n",
       "      <td>-0.096110</td>\n",
       "      <td>-0.014098</td>\n",
       "      <td>-0.022980</td>\n",
       "      <td>-0.126743</td>\n",
       "      <td>-1.000000</td>\n",
       "      <td>1.000000</td>\n",
       "    </tr>\n",
       "  </tbody>\n",
       "</table>\n",
       "<p>80 rows × 80 columns</p>\n",
       "</div>"
      ],
      "text/plain": [
       "                       Age        q1        q2        q3        q4        q5  \\\n",
       "Age               1.000000  0.087551  0.062846  0.174787 -0.012967 -0.112695   \n",
       "q1                0.087551  1.000000  0.340939  0.469572  0.004338 -0.083045   \n",
       "q2                0.062846  0.340939  1.000000  0.228834  0.030512 -0.092157   \n",
       "q3                0.174787  0.469572  0.228834  1.000000 -0.086557 -0.034345   \n",
       "q4               -0.012967  0.004338  0.030512 -0.086557  1.000000  0.437265   \n",
       "...                    ...       ...       ...       ...       ...       ...   \n",
       "SobstvPoddStand1  0.034226  0.385341  0.362783  0.324925  0.109876 -0.011036   \n",
       "standwork        -0.048459  0.037877  0.171888  0.142542  0.154772  0.190453   \n",
       "RodPoddStand      0.042831  0.279383  0.200788  0.162373  0.576566  0.538625   \n",
       "Male             -0.001244  0.086844 -0.190083 -0.022285  0.119263  0.007961   \n",
       "Female            0.001244 -0.086844  0.190083  0.022285 -0.119263 -0.007961   \n",
       "\n",
       "                        q6        q7        q8        q9  ...   razvode  \\\n",
       "Age              -0.025068  0.213109  0.115515 -0.065503  ...  0.100541   \n",
       "q1                0.215716  0.361427  0.397929  0.118045  ... -0.114081   \n",
       "q2                0.141345  0.223942  0.226914  0.027856  ... -0.045344   \n",
       "q3                0.186328  0.270855  0.261140 -0.011351  ... -0.008026   \n",
       "q4                0.384865  0.193748  0.098275  0.471759  ...  0.045064   \n",
       "...                    ...       ...       ...       ...  ...       ...   \n",
       "SobstvPoddStand1  0.266095  0.361780  0.441749  0.310836  ... -0.089155   \n",
       "standwork         0.227497  0.254631  0.200846  0.265799  ...  0.056819   \n",
       "RodPoddStand      0.712310  0.677060  0.644466  0.687548  ...  0.007628   \n",
       "Male              0.128202  0.110324  0.066664  0.135476  ... -0.085769   \n",
       "Female           -0.128202 -0.110324 -0.066664 -0.135476  ...  0.085769   \n",
       "\n",
       "                  neudobnoparentsperekod   vdovets  neudobnosemyeobr  \\\n",
       "Age                             0.157869  0.211912          0.050002   \n",
       "q1                              0.152648 -0.001306          0.005270   \n",
       "q2                              0.092211  0.062877         -0.022646   \n",
       "q3                              0.002377  0.079676         -0.022989   \n",
       "q4                             -0.224959 -0.110560         -0.161055   \n",
       "...                                  ...       ...               ...   \n",
       "SobstvPoddStand1               -0.023863  0.080646         -0.057815   \n",
       "standwork                      -0.256670  0.026265         -0.187052   \n",
       "RodPoddStand                   -0.205737 -0.029859         -0.206334   \n",
       "Male                           -0.049264 -0.093624         -0.115746   \n",
       "Female                          0.049264  0.093624          0.115746   \n",
       "\n",
       "                  SoxEXPstand  SobstvPoddStand1  standwork  RodPoddStand  \\\n",
       "Age                 -0.036030          0.034226  -0.048459      0.042831   \n",
       "q1                   0.219907          0.385341   0.037877      0.279383   \n",
       "q2                   0.253541          0.362783   0.171888      0.200788   \n",
       "q3                   0.224064          0.324925   0.142542      0.162373   \n",
       "q4                   0.363885          0.109876   0.154772      0.576566   \n",
       "...                       ...               ...        ...           ...   \n",
       "SobstvPoddStand1     0.675601          1.000000   0.343645      0.448730   \n",
       "standwork            0.758354          0.343645   1.000000      0.364627   \n",
       "RodPoddStand         0.745580          0.448730   0.364627      1.000000   \n",
       "Male                 0.096110          0.014098   0.022980      0.126743   \n",
       "Female              -0.096110         -0.014098  -0.022980     -0.126743   \n",
       "\n",
       "                      Male    Female  \n",
       "Age              -0.001244  0.001244  \n",
       "q1                0.086844 -0.086844  \n",
       "q2               -0.190083  0.190083  \n",
       "q3               -0.022285  0.022285  \n",
       "q4                0.119263 -0.119263  \n",
       "...                    ...       ...  \n",
       "SobstvPoddStand1  0.014098 -0.014098  \n",
       "standwork         0.022980 -0.022980  \n",
       "RodPoddStand      0.126743 -0.126743  \n",
       "Male              1.000000 -1.000000  \n",
       "Female           -1.000000  1.000000  \n",
       "\n",
       "[80 rows x 80 columns]"
      ]
     },
     "execution_count": 11,
     "metadata": {},
     "output_type": "execute_result"
    }
   ],
   "source": [
    "data.corr()"
   ]
  },
  {
   "cell_type": "code",
   "execution_count": 12,
   "metadata": {},
   "outputs": [],
   "source": [
    "Age = data[\"Age\"]\n",
    "Thinkwhatothers = data[\"thinkwhatothers\"]"
   ]
  },
  {
   "cell_type": "code",
   "execution_count": 13,
   "metadata": {},
   "outputs": [
    {
     "data": {
      "text/plain": [
       "-0.07414308255591605"
      ]
     },
     "execution_count": 13,
     "metadata": {},
     "output_type": "execute_result"
    }
   ],
   "source": [
    "Age.corr(Thinkwhatothers)"
   ]
  },
  {
   "cell_type": "code",
   "execution_count": 14,
   "metadata": {},
   "outputs": [],
   "source": [
    "#Let's look at correlations matrix for each desired scale"
   ]
  },
  {
   "cell_type": "markdown",
   "metadata": {},
   "source": [
    "Алгоритм анализа состоял из двух последовательных шагов: во-первых, *подсчет коэффициента корреляции Пирсона* для каждого суждения относительно общей набранной суммы ответов, и, во-вторых, расчет коэффициента *α-Кронбаха* для определения внутренней согласованности суждений, показавших достаточно высокие значения коэффициента Пирсона. \n",
    "Изначально планируется отсеять суждения со значениями коэффициента Пирсона ниже 0,5, однако по причине небольшого количества суждений в шкалах принято решение не отсеивать суждения, имеющие значимую связь с сумматорным индексом. Апробация каждой шкалы будет обсуждена поочередно. "
   ]
  },
  {
   "cell_type": "code",
   "execution_count": 15,
   "metadata": {},
   "outputs": [],
   "source": [
    "data['qsum'] = data['q1']+data['q2']+data['q3']+data['q4']+data['q5']+data['q6']+data['q7']+data['q8']+data['q9']+data['q10']+data['q11']+data['q12']+data['q13']"
   ]
  },
  {
   "cell_type": "code",
   "execution_count": 16,
   "metadata": {},
   "outputs": [
    {
     "data": {
      "text/plain": [
       "0      65.0\n",
       "1      65.0\n",
       "2      63.0\n",
       "3      59.0\n",
       "4      56.0\n",
       "       ... \n",
       "240    35.0\n",
       "241    32.0\n",
       "242    18.0\n",
       "243    13.0\n",
       "244    13.0\n",
       "Name: qsum, Length: 245, dtype: float64"
      ]
     },
     "execution_count": 16,
     "metadata": {},
     "output_type": "execute_result"
    }
   ],
   "source": [
    "data['qsum']"
   ]
  },
  {
   "cell_type": "code",
   "execution_count": 17,
   "metadata": {},
   "outputs": [],
   "source": [
    "q = data[['q1', 'q2', 'q3', 'q4', 'q5', 'q6', \n",
    "          'q7', 'q8', 'q9', 'q10', 'q11', 'q12', 'q13', 'qsum']]"
   ]
  },
  {
   "cell_type": "code",
   "execution_count": 57,
   "metadata": {
    "scrolled": true
   },
   "outputs": [
    {
     "data": {
      "image/png": "[encoded data removed]",
      "text/plain": [
       "<Figure size 432x288 with 2 Axes>"
      ]
     },
     "metadata": {
      "needs_background": "light"
     },
     "output_type": "display_data"
    }
   ],
   "source": [
    "qcorr = q.corr()\n",
    "qax = sns.heatmap(\n",
    "    qcorr, \n",
    "    vmin=-1, vmax=1, center=0,\n",
    "    cmap=sns.diverging_palette(240, 350, n=200),\n",
    "    square=True)\n",
    "qax.set_xticklabels(\n",
    "    qax.get_xticklabels(),\n",
    "    rotation=45,\n",
    "    horizontalalignment='right');"
   ]
  },
  {
   "cell_type": "markdown",
   "metadata": {},
   "source": [
    "Для определения внутренней согласованности суждений, отобранных после подсчета коэффициента Пирсона, был применен коэффициент α-Кронбаха. Для отобранных суждений он дал достаточно высокие показатели, которые будут приведены в таблице ниже. "
   ]
  },
  {
   "cell_type": "code",
   "execution_count": 19,
   "metadata": {},
   "outputs": [],
   "source": [
    "def CronbachAlpha(q):\n",
    "    itemscores = np.asarray(q)\n",
    "    itemvars = itemscores.var(axis=0, ddof=1)\n",
    "    tscores = itemscores.sum(axis=1)\n",
    "    nitems = itemscores.shape[1]\n",
    "\n",
    "    return (nitems / (nitems-1)) * (1 - (itemvars.sum() / tscores.var(ddof=1)))"
   ]
  },
  {
   "cell_type": "code",
   "execution_count": 20,
   "metadata": {},
   "outputs": [
    {
     "data": {
      "text/plain": [
       "0.7639066755226923"
      ]
     },
     "execution_count": 20,
     "metadata": {},
     "output_type": "execute_result"
    }
   ],
   "source": [
    "CronbachAlpha(q.drop(q.columns[13], axis=1))"
   ]
  },
  {
   "cell_type": "code",
   "execution_count": 21,
   "metadata": {},
   "outputs": [],
   "source": [
    "data['qsum'] = data['q4']+data['q5']+data['q6']+data['q7']+data['q8']+data['q9']+data['q10']+data['q11']+data['q12']+data['q13']"
   ]
  },
  {
   "cell_type": "code",
   "execution_count": 22,
   "metadata": {},
   "outputs": [],
   "source": [
    "q = data[['q4', 'q5', 'q6', \n",
    "          'q7', 'q8', 'q9', 'q10', 'q11', 'q12', 'q13']]"
   ]
  },
  {
   "cell_type": "code",
   "execution_count": 23,
   "metadata": {
    "scrolled": true
   },
   "outputs": [
    {
     "data": {
      "text/plain": [
       "0.767064685058227"
      ]
     },
     "execution_count": 23,
     "metadata": {},
     "output_type": "execute_result"
    }
   ],
   "source": [
    "CronbachAlpha(q) #Коэффициент немного увеличился и его можно округлить до 0,77"
   ]
  },
  {
   "cell_type": "markdown",
   "metadata": {},
   "source": [
    "Родители часто напоминали мне, кем я должен стать\n",
    "Родители определили мой выбор учебного заведения (после школы)\n",
    "Моя семья многого ожидала от меня\n",
    "Я не хотел подвести ожидания семьи\n",
    "Я хочу показать родителем, каким я стал человеком\n",
    "Родители часто давали мне наставления\n",
    "Сейчас я должен, в свою очередь, позаботиться о родителях\n",
    "Иногда я лгал своим родителям, чтобы не подвести их ожидания\n",
    "Я чувствую вину перед своей семьей за то, что уделяю ей недостаточно внимания\n",
    "Иногда родителям бывает неудобно из-за меня перед друзьями и знакомыми\n"
   ]
  },
  {
   "cell_type": "markdown",
   "metadata": {},
   "source": [
    "Можно заметить, что теперь показатель согласованности не будет увеличиваться при удалении суждения из шкалы. Таким образом, общий показатель согласованности шкалы – 0,77, что является удовлетворительным.\n",
    "С остальными переменными было проделано то же самое. Для компактности опущен проуесс отбора переменных для финальных шкал."
   ]
  },
  {
   "cell_type": "code",
   "execution_count": 24,
   "metadata": {},
   "outputs": [],
   "source": [
    "w = data[['w1', 'w2', 'w3', 'w4', 'w5']]"
   ]
  },
  {
   "cell_type": "code",
   "execution_count": 25,
   "metadata": {},
   "outputs": [
    {
     "data": {
      "text/plain": [
       "0.8940847293273407"
      ]
     },
     "execution_count": 25,
     "metadata": {},
     "output_type": "execute_result"
    }
   ],
   "source": [
    "CronbachAlpha(w)"
   ]
  },
  {
   "cell_type": "markdown",
   "metadata": {},
   "source": [
    "Я должен быть примерным мужем/женой\n",
    "Я часто советуюсь с членами семьи, когда принимаю решение\n",
    "Я несу ответственность за свою семью\n",
    "Благополучие моей семьи важнее свободы моих действий\n",
    "Я должен показать хороший пример своей семье\n"
   ]
  },
  {
   "cell_type": "code",
   "execution_count": 26,
   "metadata": {},
   "outputs": [],
   "source": [
    "r = data[['r1', 'r3', 'r4', 'r6', 'r7', 'r8', \n",
    "          'r9', 'r10', 'r11']]"
   ]
  },
  {
   "cell_type": "code",
   "execution_count": 27,
   "metadata": {
    "scrolled": true
   },
   "outputs": [
    {
     "data": {
      "text/plain": [
       "0.7773545055813623"
      ]
     },
     "execution_count": 27,
     "metadata": {},
     "output_type": "execute_result"
    }
   ],
   "source": [
    "CronbachAlpha(r)"
   ]
  },
  {
   "cell_type": "markdown",
   "metadata": {},
   "source": [
    "Я часто беспокоюсь, что могут подумать обо мне коллеги\n",
    "Я бы хотел сменить сферу деятельности\n",
    "Мне было бы страшно подойти к начальнику с инициативой\n",
    "В детстве я мечтал (представлял себя в) о другой сфере деятельности\n",
    "Изначально я планировал получить другую специальность\n",
    "Я жалею о том, что не смог стать тем, кем планировал (в плане работы/образования)\n",
    "Я хочу показать своим коллегам какой я молодец\n",
    "Я стараюсь поддерживать свой сложившийся имидж в коллективе\n",
    "Я скрываю от коллег свои цели и намерения\n"
   ]
  },
  {
   "cell_type": "code",
   "execution_count": 58,
   "metadata": {
    "scrolled": true
   },
   "outputs": [
    {
     "data": {
      "image/png": "[encoded data removed]",
      "text/plain": [
       "<Figure size 432x288 with 2 Axes>"
      ]
     },
     "metadata": {
      "needs_background": "light"
     },
     "output_type": "display_data"
    }
   ],
   "source": [
    "wcorr = w.corr()\n",
    "wax = sns.heatmap(\n",
    "    wcorr, \n",
    "    vmin=-1, vmax=1, center=0,\n",
    "    cmap=sns.diverging_palette(350, 135, n=200),\n",
    "    square=True)\n",
    "wax.set_xticklabels(\n",
    "    wax.get_xticklabels(),\n",
    "    rotation=45,\n",
    "    horizontalalignment='right');"
   ]
  },
  {
   "cell_type": "code",
   "execution_count": 59,
   "metadata": {},
   "outputs": [
    {
     "data": {
      "image/png": "[encoded data removed]",
      "text/plain": [
       "<Figure size 432x288 with 2 Axes>"
      ]
     },
     "metadata": {
      "needs_background": "light"
     },
     "output_type": "display_data"
    }
   ],
   "source": [
    "rcorr = r.corr()\n",
    "rax = sns.heatmap(\n",
    "    rcorr, \n",
    "    vmin=-1, vmax=1, center=0,\n",
    "    cmap=sns.diverging_palette(240, 350, n=200),\n",
    "    square=True)\n",
    "rax.set_xticklabels(\n",
    "    rax.get_xticklabels(),\n",
    "    rotation=45,\n",
    "    horizontalalignment='right');"
   ]
  },
  {
   "cell_type": "code",
   "execution_count": 30,
   "metadata": {},
   "outputs": [],
   "source": [
    "data['qindex'] = data['q4']+data['q5']+data['q6']+data['q7']+data['q8']+data['q9']+data['q10']+data['q11']+data['q12']+data['q13']\n",
    "data['rindex'] = data['r1']+data['r3']+data['r4']+data['r6']+data['r7']+data['r8']+data['r9']+data['r10']+data['r11']\n",
    "data['windex'] = data['w1']+data['w2']+data['w3']+data['w4']+data['w5']"
   ]
  },
  {
   "cell_type": "code",
   "execution_count": 31,
   "metadata": {},
   "outputs": [],
   "source": [
    "#Counting the general index of social expectations"
   ]
  },
  {
   "cell_type": "code",
   "execution_count": 32,
   "metadata": {},
   "outputs": [],
   "source": [
    "data['GSE'] = data['q4']+data['q5']+data['q6']+data['q7']+data['q8']+data['q9']+data['q10']+data['q11']+data['q12']+data['q13'] + data['w1']+data['w2']+data['w3']+data['w4']+data['w5'] +data['w6']+data['w7']+data['w8']+data['w9']+data['w10']+data['r1']+data['r3']+data['r4']+data['r6']+data['r7']+data['r8']+data['r9']+data['r10']+data['r11']"
   ]
  },
  {
   "cell_type": "code",
   "execution_count": 33,
   "metadata": {
    "scrolled": true
   },
   "outputs": [
    {
     "data": {
      "text/plain": [
       "145.0"
      ]
     },
     "execution_count": 33,
     "metadata": {},
     "output_type": "execute_result"
    }
   ],
   "source": [
    "data['GSE'].max()"
   ]
  },
  {
   "cell_type": "code",
   "execution_count": 34,
   "metadata": {},
   "outputs": [],
   "source": [
    "import seaborn as sns; sns.set()"
   ]
  },
  {
   "cell_type": "code",
   "execution_count": 60,
   "metadata": {
    "scrolled": false
   },
   "outputs": [
    {
     "data": {
      "text/plain": [
       "<seaborn.axisgrid.FacetGrid at 0x1b22721a6a0>"
      ]
     },
     "execution_count": 60,
     "metadata": {},
     "output_type": "execute_result"
    },
    {
     "data": {
      "image/png": "[encoded data removed]",
      "text/plain": [
       "<Figure size 444.725x360 with 1 Axes>"
      ]
     },
     "metadata": {
      "needs_background": "light"
     },
     "output_type": "display_data"
    }
   ],
   "source": [
    "sns.displot(data, x=\"GSE\", hue=\"gender\")"
   ]
  },
  {
   "cell_type": "markdown",
   "metadata": {},
   "source": [
    "## Уровень социальных ожиданий в зависимости от социально демографических характеристик\n",
    "Предположительно, присутствуют значимые различия в среднем уровне социальных ожиданий сферы собственной семьи в зависимости от семейного положения. Нулевой гипотезой является то, что отсутствуют значимые различия в среднем уровне социальных ожиданий собственной семьи в группах респондентов, отличающихся по семейному положению. На уровне доверительной вероятности 95%, есть основания отвергнуть нулевую гипотезу об отсутствии значимых различия в среднем уровне социальных ожиданий. \n"
   ]
  },
  {
   "cell_type": "markdown",
   "metadata": {
    "collapsed": true
   },
   "source": [
    "### Уровень социальных ожиданий собственной семьи в зависимости от семейного положения"
   ]
  },
  {
   "cell_type": "code",
   "execution_count": 39,
   "metadata": {
    "scrolled": true
   },
   "outputs": [],
   "source": [
    "import statsmodels.api as sm"
   ]
  },
  {
   "cell_type": "code",
   "execution_count": 42,
   "metadata": {},
   "outputs": [],
   "source": [
    "from statsmodels.formula.api import ols"
   ]
  },
  {
   "cell_type": "code",
   "execution_count": 43,
   "metadata": {
    "scrolled": true
   },
   "outputs": [
    {
     "name": "stdout",
     "output_type": "stream",
     "text": [
      "               sum_sq     df         F    PR(>F)\n",
      "Marriage   245.169591    4.0  3.440542  0.009325\n",
      "Residual  4275.540613  240.0       NaN       NaN\n"
     ]
    }
   ],
   "source": [
    "mod = ols('windex ~ Marriage', data = data).fit()\n",
    "aov_table = sm.stats.anova_lm(mod, typ=2)\n",
    "print(aov_table)"
   ]
  },
  {
   "cell_type": "code",
   "execution_count": 44,
   "metadata": {},
   "outputs": [],
   "source": [
    "from statsmodels.stats.multicomp import pairwise_tukeyhsd\n",
    "from statsmodels.stats.multicomp import MultiComparison"
   ]
  },
  {
   "cell_type": "code",
   "execution_count": 45,
   "metadata": {},
   "outputs": [
    {
     "name": "stdout",
     "output_type": "stream",
     "text": [
      "                             Multiple Comparison of Means - Tukey HSD, FWER=0.05                              \n",
      "==============================================================================================================\n",
      "            group1                              group2                  meandiff p-adj   lower   upper  reject\n",
      "--------------------------------------------------------------------------------------------------------------\n",
      "                     В разводе                           Вдовец (вдова)   3.0238 0.4734 -2.0395  8.0871  False\n",
      "                     В разводе           Да, состою в официальном браке   1.5836 0.2167 -0.4736  3.6408  False\n",
      "                     В разводе                Да, состою в сожительстве   0.5996    0.9 -2.4537  3.6529  False\n",
      "                     В разводе Никогда не состоял (не состояла) в браке  -0.7641    0.9 -3.2668  1.7387  False\n",
      "                Вдовец (вдова)           Да, состою в официальном браке  -1.4402    0.9 -6.2837  3.4033  False\n",
      "                Вдовец (вдова)                Да, состою в сожительстве  -2.4242  0.698 -7.7675   2.919  False\n",
      "                Вдовец (вдова) Никогда не состоял (не состояла) в браке  -3.7879   0.24 -8.8368   1.261  False\n",
      "Да, состою в официальном браке                Да, состою в сожительстве   -0.984 0.8309 -3.6571   1.689  False\n",
      "Да, состою в официальном браке Никогда не состоял (не состояла) в браке  -2.3477 0.0137 -4.3692 -0.3262   True\n",
      "     Да, состою в сожительстве Никогда не состоял (не состояла) в браке  -1.3636 0.7035  -4.393  1.6657  False\n",
      "--------------------------------------------------------------------------------------------------------------\n",
      "['В разводе' 'Вдовец (вдова)' 'Да, состою в официальном браке'\n",
      " 'Да, состою в сожительстве' 'Никогда не состоял (не состояла) в браке']\n"
     ]
    }
   ],
   "source": [
    "mc = MultiComparison(data['windex'], data['Marriage'])\n",
    "result = mc.tukeyhsd()\n",
    "print(result)\n",
    "print(mc.groupsunique)"
   ]
  },
  {
   "cell_type": "markdown",
   "metadata": {},
   "source": [
    "Проведя попарные сравнения, можно увидеть значимую разницу в среднем уровне социальных ожиданий сферы собственной семьи между респондентами, никогда не состоявшими в браке и теми, кто состоит в официальном браке. Социальные ожидания собственной семьи выше у тех, кто состоит в официальном браке. В целом это является логичным, ведь у тех, кто никогда не состоял в браке может вовсе не быть собственной семьи. Однако, у тех, кто никогда не состоял в браке могут быть дети, их доля составляет всего 12%. То есть на данном этапе нельзя делать вывод о том, что именно заключение официального брака может привести к повышению ожиданий партнера и детей от индивида. Далее проведем такой же анализ однако отдельно среди женщин и мужчин."
   ]
  },
  {
   "cell_type": "code",
   "execution_count": 71,
   "metadata": {},
   "outputs": [
    {
     "name": "stdout",
     "output_type": "stream",
     "text": [
      "               sum_sq     df         F    PR(>F)\n",
      "Marriage   155.064231    4.0  1.601757  0.179105\n",
      "Residual  2613.838424  108.0       NaN       NaN\n"
     ]
    }
   ],
   "source": [
    "mod = ols('windex ~ Marriage', data = data.loc[data['Male'] == 1]).fit()\n",
    "aov_table = sm.stats.anova_lm(mod, typ=2)\n",
    "print(aov_table)"
   ]
  },
  {
   "cell_type": "markdown",
   "metadata": {},
   "source": [
    "Среди мужчин отсутствует значимая разница в уровне социальных ожиданий собственной семьи в зависимости от семейного положения. На уровне доверительной вероятности 95% мы не можем отвергнуть нулевую гипотезу о равенстве среднего уровня социальных ожиданий собственной семьи в группах по семейному положению."
   ]
  },
  {
   "cell_type": "code",
   "execution_count": 72,
   "metadata": {},
   "outputs": [
    {
     "name": "stdout",
     "output_type": "stream",
     "text": [
      "               sum_sq     df         F   PR(>F)\n",
      "Marriage   142.568516    4.0  2.814423  0.02806\n",
      "Residual  1608.340575  127.0       NaN      NaN\n"
     ]
    }
   ],
   "source": [
    "mod = ols('windex ~ Marriage', data = data.loc[data['Female'] == 1]).fit()\n",
    "aov_table = sm.stats.anova_lm(mod, typ=2)\n",
    "print(aov_table)"
   ]
  },
  {
   "cell_type": "markdown",
   "metadata": {},
   "source": [
    "Однако среди женщин присутствует значимая разница в уровне социальных ожиданий собственной семьи в зависимости от семейного положения. На уровне доверительной вероятности 95% мы можем отвергнуть нулевую гипотезу о равенстве среднего уровня социальных ожиданий собственной семьи в группах по семейному положению.\n"
   ]
  },
  {
   "cell_type": "code",
   "execution_count": 73,
   "metadata": {},
   "outputs": [
    {
     "name": "stdout",
     "output_type": "stream",
     "text": [
      "               sum_sq     df         F    PR(>F)\n",
      "gender       0.898458    1.0  0.048304  0.826226\n",
      "Residual  4519.811746  243.0       NaN       NaN\n"
     ]
    }
   ],
   "source": [
    "mod = ols('windex ~ gender', data = data).fit()\n",
    "aov_table = sm.stats.anova_lm(mod, typ=2)\n",
    "print(aov_table)"
   ]
  },
  {
   "cell_type": "markdown",
   "metadata": {},
   "source": [
    "При проверке гипотезы о том, что присутствует значимая разница в уровне социальных ожиданий собственной семьи в зависимости от пола, не было найдено значимых различий. Таким образом, можно сделать два важных вывода. Во первых уровень социальных ожиданий собственной семьи не различается в зависимости от пола, то есть он равный как для мужчин так и для женщин. Однако, для женщин, состоящих в официальном браке социальные ожидания собственной семьи выше, чем для женщин, не состоявших в браке, в то время как для мужчин данные различия незначимы. "
   ]
  },
  {
   "cell_type": "code",
   "execution_count": 74,
   "metadata": {},
   "outputs": [
    {
     "name": "stdout",
     "output_type": "stream",
     "text": [
      "                sum_sq     df         F    PR(>F)\n",
      "gender      179.319509    1.0  3.590089  0.059312\n",
      "Residual  12137.480491  243.0       NaN       NaN\n"
     ]
    }
   ],
   "source": [
    "mod = ols('qindex ~ gender', data = data).fit()\n",
    "aov_table = sm.stats.anova_lm(mod, typ=2)\n",
    "print(aov_table)"
   ]
  },
  {
   "cell_type": "markdown",
   "metadata": {},
   "source": [
    "Предположительно, присутствуют значимые различия в среднем уровне социальных ожиданий сферы родительской семьи в зависимости от пола. Нулевой гипотезой является то, что отсутствуют значимые различия в среднем уровне социальных ожиданий сферы родительской семьи среди женщин и мужчин. На уровне доверительной вероятности 95%, есть основания отвергнуть нулевую гипотезу об отсутствии значимых различий в среднем уровне социальных ожиданий. Причем, для мужчин уровень социальных ожиданий родительской семьи выше, чем для женщин. "
   ]
  },
  {
   "cell_type": "code",
   "execution_count": 75,
   "metadata": {},
   "outputs": [
    {
     "name": "stdout",
     "output_type": "stream",
     "text": [
      "                 sum_sq     df         F   PR(>F)\n",
      "education    715.573625    6.0  2.671564  0.01581\n",
      "Residual   10624.646783  238.0       NaN      NaN\n"
     ]
    }
   ],
   "source": [
    "mod = ols('rindex ~ education', data = data).fit()\n",
    "aov_table = sm.stats.anova_lm(mod, typ=2)\n",
    "print(aov_table)"
   ]
  },
  {
   "cell_type": "markdown",
   "metadata": {},
   "source": [
    "Относительно ожиданий в сфере работы и образования, предполагается то, что он будет значимо различаться в зависимости от уровня полученного образования. Предположительно, уровень социальных ожиданий выше для тех, кто имеет более высокий уровень образования. Однако данная гипотеза опровергается. "
   ]
  },
  {
   "cell_type": "code",
   "execution_count": 78,
   "metadata": {
    "scrolled": true
   },
   "outputs": [
    {
     "name": "stdout",
     "output_type": "stream",
     "text": [
      "              Multiple Comparison of Means - Tukey HSD, FWER=0.05              \n",
      "===============================================================================\n",
      "       group1              group2       meandiff p-adj   lower    upper  reject\n",
      "-------------------------------------------------------------------------------\n",
      " Высшее образование     Неполное высшее   2.4587 0.8815  -3.5417  8.4591  False\n",
      " Высшее образование    Неполное среднее   2.2801    0.9  -5.4337  9.9939  False\n",
      " Высшее образование    Несколько высших  -4.1861 0.1474  -9.0733  0.7012  False\n",
      " Высшее образование       Среднее общее    0.324    0.9  -5.4617  6.1097  False\n",
      " Высшее образование Среднее специальное   0.9873    0.9  -2.1078  4.0825  False\n",
      " Высшее образование Учёная степень, MBA   -5.958  0.336 -14.2587  2.3427  False\n",
      "    Неполное высшее    Неполное среднее  -0.1786    0.9  -9.6279  9.2708  False\n",
      "    Неполное высшее    Несколько высших  -6.6447 0.1035 -13.9709  0.6815  False\n",
      "    Неполное высшее       Среднее общее  -2.1346    0.9 -10.0884  5.8192  False\n",
      "    Неполное высшее Среднее специальное  -1.4713    0.9  -7.7457  4.8031  False\n",
      "    Неполное высшее Учёная степень, MBA  -8.4167 0.1571 -18.3509  1.5176  False\n",
      "   Неполное среднее    Несколько высших  -6.4662 0.3055 -15.2509  2.3185  False\n",
      "   Неполное среднее       Среднее общее   -1.956    0.9 -11.2705  7.3585  False\n",
      "   Неполное среднее Среднее специальное  -1.2927    0.9  -9.2215   6.636  False\n",
      "   Неполное среднее Учёная степень, MBA  -8.2381 0.2909 -19.2919  2.8157  False\n",
      "   Несколько высших       Среднее общее   4.5101 0.4983  -2.6413 11.6615  False\n",
      "   Несколько высших Среднее специальное   5.1734 0.0539  -0.0466 10.3934  False\n",
      "   Несколько высших Учёная степень, MBA  -1.7719    0.9 -11.0762  7.5324  False\n",
      "      Среднее общее Среднее специальное   0.6633    0.9  -5.4061  6.7327  False\n",
      "      Среднее общее Учёная степень, MBA  -6.2821   0.48 -16.0881   3.524  False\n",
      "Среднее специальное Учёная степень, MBA  -6.9454 0.1908 -15.4462  1.5555  False\n",
      "-------------------------------------------------------------------------------\n",
      "['Высшее образование' 'Неполное высшее' 'Неполное среднее'\n",
      " 'Несколько высших' 'Среднее общее' 'Среднее специальное'\n",
      " 'Учёная степень, MBA']\n"
     ]
    }
   ],
   "source": [
    "mc = MultiComparison(data['rindex'], data['education'])\n",
    "result = mc.tukeyhsd()\n",
    "print(result)\n",
    "print(mc.groupsunique)"
   ]
  },
  {
   "cell_type": "markdown",
   "metadata": {},
   "source": [
    "Следующим предположением стало то, что для респондентов проживающих в разных населенных пунктах в зависимости от их размера ожидания в сфере работы будут различаться. Нулевой гипотезой является то, что нет значимых различий в среднем уровне ожиданий в сфере работы для жителей городов разного размера. Однако на уровне доверительной вероятности данная гипотеза не подтверждается (sig=0,6). Поэтому было принято решение посмотреть так ли это отдельно для мужчин и женщин. Для женщин не было найдено значимых различий в уровне ожиданий в зависимости от города проживания. Однако для мужчин при проведении попарных сравнений была выявлена значимая разница в среднем уровне ожиданий в сфере работы и образования между теми, кто проживает в городе-миллионнике и в сельском населенном пункте. Причем для мужчин из сельских населенных пунктов они выше. Это может иметь схожее объяснение с предыдущим выводом об образовании. Мужчины из городов-миллионников испытывают меньшую фрустрацию при выборе как рабочего места, так и своего поведения на работе. Другим объяснением может стать разница между нормами в крупных городах и сельских пунктах, где в первом преобладает индивидуализм, а во втором случае – коллективизм, где индивид не должен выделяться и должен максимально соответствовать тому, что от него ожидают другие."
   ]
  },
  {
   "cell_type": "code",
   "execution_count": 79,
   "metadata": {},
   "outputs": [
    {
     "name": "stdout",
     "output_type": "stream",
     "text": [
      "               sum_sq     df         F    PR(>F)\n",
      "domicil    345.407453    3.0  2.750704  0.046202\n",
      "Residual  4562.397857  109.0       NaN       NaN\n"
     ]
    }
   ],
   "source": [
    "mod = ols('rindex ~ domicil', data = data.loc[data['Male'] == 1]).fit()\n",
    "aov_table = sm.stats.anova_lm(mod, typ=2)\n",
    "print(aov_table)"
   ]
  },
  {
   "cell_type": "markdown",
   "metadata": {},
   "source": [
    "Дополнительным выводом может стать то, что для женщин по определению уровень социальных ожиданий в независимости от других факторов является ниже, чем для мужчин. В то время как для мужчин можно выделить значимые факторы обуславливающие варьирование уровня ожиданий от них в сфере работы. "
   ]
  },
  {
   "cell_type": "markdown",
   "metadata": {},
   "source": [
    "### Вклад социальных ожиданий в поведенческие установки (made in R)"
   ]
  },
  {
   "cell_type": "markdown",
   "metadata": {},
   "source": [
    "mymodel <- sem('\n",
    "               SoxEXPstand ~ RodPoddStand + SobstvPoddStand1 + standwork;\n",
    "               thinkwhatothers ~ standwork;\n",
    "               polagatsya ~ RodPoddStand;\n",
    "               skrivayutseli ~ RodPoddStand + SobstvPoddStand1 + SoxEXPstand;\n",
    "               rabotapodusha ~ SobstvPoddStand1 + standwork;\n",
    "               vinuzhden ~ RodPoddStand + SobstvPoddStand1 + SoxEXPstand;\n",
    "               vsegdadobiv ~ SobstvPoddStand1;\n",
    "               starayussled ~ SobstvPoddStand1;\n",
    "               tyazhelopomosh ~ RodPoddStand + SobstvPoddStand1 + SoxEXPstand;\n",
    "               tyazheloprinimresh ~ RodPoddStand + SobstvPoddStand1 + SoxEXPstand;\n",
    "               schitaus ~ SobstvPoddStand1;\n",
    "               pitayusborot ~ SobstvPoddStand1 + SoxEXPstand;\n",
    "               stidno ~ SobstvPoddStand1 + SoxEXPstand;\n",
    "               vina ~ RodPoddStand + SobstvPoddStand1 +  SoxEXPstand;\n",
    "               risk ~ RodPoddStand;\n",
    "               nevsyozavisit ~ RodPoddStand +  SoxEXPstand + SobstvPoddStand1 + standwork\n",
    "\n",
    "              ',\n",
    "               \n",
    "               data=data)\n",
    "\n",
    "summary(mymodel, fit.measures=TRUE)\n",
    "\n",
    "semPaths(mymodel, whatLabels=\"std\", layout = \"tree\" , label.cex = 1.8, \n",
    "         edge.label.cex = 1.5, style = \"lisrel\", \n",
    "         rotation=2, esize = 3, shapeLat = \"circle\", nCharNodes=4, what = 'std',\n",
    "         edge.color = \"purple\", edge.width=1, node.width = 1.4, curve\n",
    "         = 1.2)\n",
    "Вторая модель:\n",
    "mymodel2 <- sem('\n",
    "               SoxEXPstand =~ RodPoddStand + SobstvPoddStand1 + standwork;\n",
    "               thinkwhatothers ~ standwork;\n",
    "               polagatsya ~ RodPoddStand;\n",
    "               skrivayutseli ~ standwork;\n",
    "               rabotapodusha ~ standwork;\n",
    "               vinuzhden ~ standwork;\n",
    "               vsegdadobiv ~ SobstvPoddStand1;\n",
    "               starayussled ~ SobstvPoddStand1;\n",
    "               schitaus ~ SobstvPoddStand1;\n",
    "               pitayusborot ~ standwork;\n",
    "               stidno ~ standwork;\n",
    "               vina ~ standwork;\n",
    "               risk ~ RodPoddStand;\n",
    "               nevsyozavisit ~ standwork;\n",
    "               tyazhelopomosh ~ standwork;\n",
    "               tyazheloprinimresh ~ standwork;\n",
    "               tyazhelopomosh  ~       RodPoddStand;\n",
    "               vsegdadobiv  ~~    tyazhelopomosh;\n",
    "               standwork  ~~      rabotapodusha\n",
    "               \n",
    "        \n",
    "              ',\n",
    "               \n",
    "               data=data)\n",
    "\n",
    "summary(mymodel2, fit.measures=TRUE)\n",
    "modindices(mymodel2, sort = T)\n",
    "\n",
    "semPaths(mymodel2, whatLabels=\"std\", layout = \"tree\" , label.cex = 1.8, \n",
    "         edge.label.cex = 1.5, style = \"lisrel\", \n",
    "         rotation=2, esize = 3, shapeLat = \"circle\", nCharNodes=4, what = 'std',\n",
    "         edge.color = \"purple\", edge.width=1, node.width = 1.4, curve\n",
    "         = 1.2)\n",
    "Третья модель:\n",
    "mymodel3 <- sem('\n",
    "              \n",
    "               thinkwhatothers ~ SoxEXPstand;\n",
    "               polagatsya ~ SoxEXPstand;\n",
    "               skrivayutseli ~ SoxEXPstand;\n",
    "               rabotapodusha ~ SoxEXPstand;\n",
    "               vinuzhden ~ SoxEXPstand;\n",
    "               starayussled ~ SoxEXPstand;\n",
    "               tyazhelopomosh ~ SoxEXPstand;\n",
    "               tyazheloprinimresh ~ SoxEXPstand;\n",
    "               chastosovet ~ SoxEXPstand;\n",
    "               schitaus ~ SoxEXPstand;\n",
    "               pitayusborot ~ SoxEXPstand;\n",
    "               stidno ~ SoxEXPstand;\n",
    "               vina ~ SoxEXPstand;\n",
    "               risk ~ SoxEXPstand;\n",
    "               nevsyozavisit ~ SoxEXPstand;\n",
    "              ',\n",
    "               \n",
    "               data=data\n",
    ")\n",
    "\n",
    "\n",
    "summary(mymodel3, fit.measures=TRUE)\n",
    "modindices(mymodel3, sort = T)\n",
    "\n",
    "semPaths(mymodel3, whatLabels=\"std\", layout = \"tree\" , label.cex = 1.8, \n",
    "         edge.label.cex = 1.5, style = \"lisrel\", \n",
    "         rotation=2, esize = 3, shapeLat = \"circle\", nCharNodes=4, what = 'std',\n",
    "         edge.color = \"purple\", edge.width=1, node.width = 1.4, curve\n",
    "         = 1.2)\n",
    "\n",
    "\n",
    " \n"
   ]
  },
  {
   "attachments": {
    "image.png": {
     "image/png": "[encoded data removed]"
    }
   },
   "cell_type": "markdown",
   "metadata": {},
   "source": [
    "![image.png](attachment:image.png)"
   ]
  },

  {
   "cell_type": "markdown",
   "metadata": {},
   "source": [
    "Interpreting the results of this model, it should be emphasized at first that it is really reasonable to add a general level of expectations as a latent variable decomposing into three separate spheres. All predictors are significant at 95% confidence level. Social expectations in the field of work and education have a positive impact on the frequency of thinking about what others will think, on the frequency of hiding goals and intentions from others, on the forced to work in a field that is not their favorite in order to maintain a decent standard of living, on trying to overcome dependence on public opinion, on the frequency of feelings of shame and guilt, on the certainty that not everything depends on the individual, on the perception of helping others as a difficult task and on the complexity of decision-making. Thus, with an increase in the level of social expectations in the field of work and education by 1 point, the difficulty for an individual to seek help from other people increases by 4.7 points. Thus, in this model, it is work expectations that influence most behavioral attitudes.\n",
    "\n",
    "As for the expectations of one's own family, they make a significant contribution to the frequency with which goals are achieved, and a positive contribution to the frequency with which common standards of behavior are followed, as well as an orientation towards public opinion. The initial assumption that a high level of social expectations will lead to a person achieving fewer goals and becoming less ambitious has not been confirmed, but rather denied. This can be explained by the fact that one's own family provides reasons to achieve new goals, maybe not personal, but for the benefit of the family and the household.\n",
    "\n",
    "Expectations of a parent family influence fewer attitudes, and this may be explained by the fact that the influence of a parent family is lower among middle-aged individuals. The hypothesis that parental expectations affect the level of social expectations among middle-aged individuals has not been confirmed, but a significant negative correlation (Kendall correlation) between age and subjective assessment of parental pressure level (sig=0.011) can be traced by analyzing a sample of respondents aged 18 to 60 (287); -0,114), the judgment that parents are uncomfortable with the respondent (sig=0,02; -0,105), the positive correlation with the judgment that parents rarely punished the respondent (sig=0,06; 0,122), and the respondent's current turn to take care of their family (sig=0,00; 0,236). Thus, according to the model obtained, the expectations of the parent's family make a significant positive contribution to the judgment that the respondent should rely only on himself or herself, to the risk appetite, and to the negative contribution to the judgment that it is difficult for the respondent to seek help from other people.\n",
    "\n",
    "Thus, these results can be interpreted as follows. First of all, social expectations do not affect all aspects of a person's life, it does not concern the degree of self-restriction by religion, if we consider each area of social expectations independently of others. However, the scope of social expectations reveals the fact that an increase in the level of expectations in the parent family may lead a person to rely more on himself or herself for decision making, to believe that the risk can be beneficial and to be able to seek help from other people, which is generally positive characteristics and is similar to describing a successful person in the eyes of informants (at the qualitative stage). As for one's own family, the high level of expectations in this area is accompanied by the fact that the person is considered with public opinion, follows the standards of behavior and more often achieves the goals set. In this case, the goals rather refer not to personal and selfish intentions, but to goals for the benefit of the family.\n",
    "\n",
    "As for expectations at work, the high level of expectations in this area leads to an increase in the frequency of thoughts about what others will think, that is, the frequency of correlation and comparison of oneself with others, as well as the frequency of feelings of guilt and shame, which, according to the interpretation of informants of the qualitative stage, negatively affects the behavior and well-being of the person. Further, with increasing expectations in the field of work, the individual more often believes that in life not everything depends on him, that is, there are other factors beyond his control, the individual is harder to help other people and harder to make decisions. Thus, the increase in social expectations in the field of work and education rather negatively affects the successful portrait of an individual in society, makes him/her weaker and less socially adapted.\n"
   ]
  }
 ],
 "metadata": {
  "kernelspec": {
   "display_name": "Python 3",
   "language": "python",
   "name": "python3"
  },
  "language_info": {
   "codemirror_mode": {
    "name": "ipython",
    "version": 3
   },
   "file_extension": ".py",
   "mimetype": "text/x-python",
   "name": "python",
   "nbconvert_exporter": "python",
   "pygments_lexer": "ipython3",
   "version": "3.6.12"
  }
 },
 "nbformat": 4,
 "nbformat_minor": 2
}
